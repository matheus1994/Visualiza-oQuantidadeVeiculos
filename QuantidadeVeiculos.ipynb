from google.colab import drive
drive.mount('/content/drive')

import pandas as pd

df = pd.read_csv('/content/drive/MyDrive/FrotaporMunicipioeTipoOutubro20242.csv')

print(df.to_string())
